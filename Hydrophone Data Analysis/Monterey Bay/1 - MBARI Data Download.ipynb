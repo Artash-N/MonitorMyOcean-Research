{
 "cells": [
  {
   "cell_type": "markdown",
   "id": "e97c22ef",
   "metadata": {},
   "source": [
    "--------------------------------------------\n",
    "# Processing daily WAV file data (MBARI)\n",
    "--------------------------------------------\n",
    "\n",
    "Downloading raw daily WAV files from MBARI AWS Server, Calculating the Long-Term Spectral Average for the file, saving LTSAs locally.\n",
    "\n",
    "--------------------------------------------"
   ]
  },
  {
   "cell_type": "code",
   "execution_count": 1,
   "id": "702d176b",
   "metadata": {},
   "outputs": [],
   "source": [
    "#Libraries\n",
    "import boto3, botocore\n",
    "from botocore import UNSIGNED\n",
    "from botocore.client import Config\n",
    "from six.moves.urllib.request import urlopen\n",
    "import io\n",
    "import scipy\n",
    "from scipy import signal\n",
    "import numpy as np\n",
    "import soundfile as sf\n",
    "import matplotlib.pyplot as plt\n",
    "from tqdm.notebook import tqdm\n",
    "import os"
   ]
  },
  {
   "cell_type": "code",
   "execution_count": 2,
   "id": "e8a8a529",
   "metadata": {
    "scrolled": true
   },
   "outputs": [],
   "source": [
    "# Setting up the AWS Bot Client\n",
    "s3 = boto3.client('s3',\n",
    "    aws_access_key_id='',\n",
    "    aws_secret_access_key='', \n",
    "    config=Config(signature_version=UNSIGNED))"
   ]
  },
  {
   "cell_type": "markdown",
   "id": "9e2db49b",
   "metadata": {},
   "source": [
    "### Listing All Files Within a Given Date Range"
   ]
  },
  {
   "cell_type": "code",
   "execution_count": 3,
   "id": "94114e7f",
   "metadata": {},
   "outputs": [
    {
     "name": "stdout",
     "output_type": "stream",
     "text": [
      "Indexed 1367 files within 01/2018 and 10/2021\n"
     ]
    }
   ],
   "source": [
    "# Defining Date Range\n",
    "\n",
    "#--------bucket--------------------------\n",
    "bucket = 'pacific-sound-2khz'\n",
    "#--------start---------------------------\n",
    "year1 = \"2018\"\n",
    "month1 = \"01\"\n",
    "#--------end-----------------------------\n",
    "year2 = '2021'\n",
    "month2 = '10'\n",
    "#----------------------------------------------------------------------------------------\n",
    "\n",
    "dates = []\n",
    "for year in range(int(year1), int(year2)+1):\n",
    "    \n",
    "    if (str(year)==year1) and (str(year)==year2):\n",
    "        months =[format(i, '02d') for i in range(int(month1), int(month2)+1)]\n",
    "    elif (str(year)==year1):\n",
    "        months =[format(i, '02d') for i in range(int(month1), 13)]\n",
    "    elif (str(year)==year2):\n",
    "        months =[format(i, '02d') for i in range(1, int(month2)+1)]\n",
    "    else:\n",
    "        months = [format(i, '02d') for i in range(1, 13)]\n",
    "    \n",
    "    for month in months:\n",
    "        dates.append((str(year), month))\n",
    "        \n",
    "#----------------------------------------------------------------------------------------\n",
    "requested_files = [] # List of all files within the defined date range\n",
    "\n",
    "for date in dates:\n",
    "    year = date[0]\n",
    "    month = date[1]\n",
    "    for obj in s3.list_objects_v2(Bucket=bucket, Prefix=f'{year}/{month}')['Contents']:\n",
    "        requested_files.append(obj['Key'])\n",
    "    \n",
    "print(\"Indexed {} files within {}/{} and {}/{}\".format(len(requested_files), month1, year1, month2, year2))\n",
    "#----------------------------------------------------------------------------------------"
   ]
  },
  {
   "cell_type": "markdown",
   "id": "98d7bc1d",
   "metadata": {},
   "source": [
    "### Loading Listed Files, Calculating PPSDs, Downloading PPSDs Locally"
   ]
  },
  {
   "cell_type": "code",
   "execution_count": 7,
   "id": "e1232826",
   "metadata": {
    "scrolled": false
   },
   "outputs": [
    {
     "data": {
      "application/vnd.jupyter.widget-view+json": {
       "model_id": "fcda4c6f72e44272bdfa6bb4e07c76b6",
       "version_major": 2,
       "version_minor": 0
      },
      "text/plain": [
       "  0%|          | 0/367 [00:00<?, ?it/s]"
      ]
     },
     "metadata": {},
     "output_type": "display_data"
    },
    {
     "name": "stdout",
     "output_type": "stream",
     "text": [
      "Ignored 2020/10/_PAM_Archive___2020_10_wav_mcache.hdf\n",
      "Ignored 2020/11/_PAM_Archive___2020_11_wav_mcache.hdf\n",
      "Downloaded 2021-08-14\n",
      "Downloaded 2021-08-15\n",
      "Downloaded 2021-08-16\n",
      "Downloaded 2021-08-17\n",
      "Downloaded 2021-08-18\n",
      "Downloaded 2021-08-19\n"
     ]
    },
    {
     "name": "stderr",
     "output_type": "stream",
     "text": [
      "C:\\Users\\Vikas\\Anaconda3\\lib\\site-packages\\ipykernel_launcher.py:26: RuntimeWarning: divide by zero encountered in log10\n"
     ]
    },
    {
     "name": "stdout",
     "output_type": "stream",
     "text": [
      "Downloaded 2021-08-20\n",
      "Downloaded 2021-08-21\n",
      "Downloaded 2021-08-22\n",
      "Downloaded 2021-08-23\n",
      "Downloaded 2021-08-24\n",
      "Downloaded 2021-08-25\n",
      "Downloaded 2021-08-26\n",
      "Downloaded 2021-08-27\n",
      "Downloaded 2021-08-28\n",
      "Downloaded 2021-08-29\n",
      "Downloaded 2021-08-30\n",
      "Downloaded 2021-08-31\n",
      "Downloaded 2021-09-01\n",
      "Downloaded 2021-09-02\n",
      "Downloaded 2021-09-03\n",
      "Downloaded 2021-09-04\n",
      "Downloaded 2021-09-05\n",
      "Downloaded 2021-09-06\n",
      "Downloaded 2021-09-07\n",
      "Downloaded 2021-09-08\n",
      "Downloaded 2021-09-09\n",
      "Downloaded 2021-09-10\n",
      "Downloaded 2021-09-11\n",
      "Downloaded 2021-09-12\n",
      "Downloaded 2021-09-13\n",
      "Downloaded 2021-09-14\n",
      "Downloaded 2021-09-15\n",
      "Downloaded 2021-09-16\n",
      "Downloaded 2021-09-17\n",
      "Downloaded 2021-09-18\n",
      "Downloaded 2021-09-20\n",
      "Downloaded 2021-09-21\n",
      "Downloaded 2021-09-22\n",
      "Downloaded 2021-09-23\n",
      "Downloaded 2021-09-24\n",
      "Downloaded 2021-09-25\n",
      "Downloaded 2021-09-26\n",
      "Downloaded 2021-09-27\n",
      "Downloaded 2021-09-28\n",
      "Downloaded 2021-09-29\n",
      "Downloaded 2021-09-30\n",
      "Downloaded 2021-10-01\n",
      "Downloaded 2021-10-02\n",
      "Downloaded 2021-10-03\n",
      "Downloaded 2021-10-04\n",
      "Downloaded 2021-10-05\n",
      "Downloaded 2021-10-06\n",
      "Downloaded 2021-10-07\n",
      "Downloaded 2021-10-08\n",
      "Downloaded 2021-10-09\n",
      "Downloaded 2021-10-10\n",
      "Downloaded 2021-10-11\n",
      "Downloaded 2021-10-12\n",
      "Downloaded 2021-10-13\n",
      "Downloaded 2021-10-14\n",
      "Downloaded 2021-10-15\n",
      "Downloaded 2021-10-16\n",
      "Downloaded 2021-10-17\n",
      "Downloaded 2021-10-18\n",
      "Downloaded 2021-10-19\n",
      "Downloaded 2021-10-20\n",
      "Downloaded 2021-10-21\n",
      "Downloaded 2021-10-22\n",
      "Downloaded 2021-10-23\n",
      "Downloaded 2021-10-24\n",
      "Downloaded 2021-10-25\n",
      "Downloaded 2021-10-26\n",
      "Downloaded 2021-10-27\n",
      "Downloaded 2021-10-28\n",
      "Downloaded 2021-10-29\n",
      "Downloaded 2021-10-30\n",
      "Downloaded 2021-10-31\n"
     ]
    }
   ],
   "source": [
    "saving_path = r'./Downloaded Spectral Data '\n",
    "for filename in tqdm(requested_files[1000:]):\n",
    "    year, month = filename.split('/')[:2]\n",
    "    day = filename.split('/')[2][11:13]\n",
    "    path = os.path.join(saving_path, year+'-'+month+'-'+day+'.npy')\n",
    "    if os.path.isfile(path):\n",
    "        continue\n",
    "    if filename[-4:]!='.wav':\n",
    "        print('Ignored {}'.format(filename))\n",
    "        continue\n",
    "    key = filename\n",
    "    url = f'https://{bucket}.s3.amazonaws.com/{key}' # Create URL from the file path (key)\n",
    "    x, sample_rate = sf.read(io.BytesIO(urlopen(url).read()),dtype='float32') \n",
    "    v = x*3   # convert scaled voltage to volts\n",
    "    a = np.arange(v.size)+1 # The X-Axis numbers\n",
    "    nsec = (v.size)/sample_rate # number of seconds in vector\n",
    "    spa = 60  # seconds/minute on average\n",
    "    nseg = int(nsec/spa) # Number of minutes \n",
    "    nfreq = int(sample_rate/2+1) # the maxiumum frequency we can calculate with PPSD (nyquist theorem)\n",
    "    LTSA = np.empty((nfreq, nseg), float) # Shape of PPSD we are making\n",
    "    w = scipy.signal.get_window('hann',sample_rate)\n",
    "    for x in range(0,nseg): # for each minute...\n",
    "      cstart = x*spa*sample_rate\n",
    "      cend = (x+1)*spa*sample_rate\n",
    "      f,psd = scipy.signal.welch(v[cstart:cend],fs=sample_rate,window=w,nfft=sample_rate)\n",
    "      psd = 10*np.log10(psd) + 177.9\n",
    "      LTSA[:,x] = psd\n",
    "    \n",
    "    \n",
    "    np.save(path,LTSA)\n",
    "    print('Downloaded {}-{}-{}'.format(year, month, day))\n",
    "    \n",
    "#8/2"
   ]
  }
 ],
 "metadata": {
  "kernelspec": {
   "display_name": "Python 3",
   "language": "python",
   "name": "python3"
  },
  "language_info": {
   "codemirror_mode": {
    "name": "ipython",
    "version": 3
   },
   "file_extension": ".py",
   "mimetype": "text/x-python",
   "name": "python",
   "nbconvert_exporter": "python",
   "pygments_lexer": "ipython3",
   "version": "3.7.4"
  }
 },
 "nbformat": 4,
 "nbformat_minor": 5
}
